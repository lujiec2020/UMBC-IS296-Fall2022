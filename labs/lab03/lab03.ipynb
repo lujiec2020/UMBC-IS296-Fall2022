{
 "cells": [
  {
   "cell_type": "code",
   "execution_count": 1,
   "id": "10f85def",
   "metadata": {},
   "outputs": [],
   "source": [
    "from datascience import *\n",
    "import numpy as np"
   ]
  },
  {
   "cell_type": "markdown",
   "id": "bd8e4899",
   "metadata": {},
   "source": [
    "## write python code to answer each of the following questions"
   ]
  },
  {
   "cell_type": "code",
   "execution_count": 2,
   "id": "40bbb831",
   "metadata": {},
   "outputs": [],
   "source": [
    "#Q1: import dataset homework 1 grading sheet called hw1-grading-sheet.csv"
   ]
  },
  {
   "cell_type": "code",
   "execution_count": 3,
   "id": "0e6fba34",
   "metadata": {},
   "outputs": [],
   "source": [
    "#Q2: how many Questions are there in total"
   ]
  },
  {
   "cell_type": "code",
   "execution_count": null,
   "id": "37a3ecd2",
   "metadata": {},
   "outputs": [],
   "source": [
    "#Q3: how many bonus questions are there?"
   ]
  },
  {
   "cell_type": "code",
   "execution_count": 5,
   "id": "2dcb7c1b",
   "metadata": {},
   "outputs": [],
   "source": [
    "#Q4 list the column names"
   ]
  },
  {
   "cell_type": "code",
   "execution_count": 6,
   "id": "ae729ada",
   "metadata": {},
   "outputs": [],
   "source": [
    "#Q5 which questions is the hardest (i.e with the least number of students get correct answer)"
   ]
  },
  {
   "cell_type": "code",
   "execution_count": 7,
   "id": "2860555f",
   "metadata": {},
   "outputs": [],
   "source": [
    "#Q6 how many questions did student X get right? \n",
    "#your code should be flexible that it answer questions for any student"
   ]
  },
  {
   "cell_type": "code",
   "execution_count": 9,
   "id": "88f9dc50",
   "metadata": {},
   "outputs": [],
   "source": [
    "#Q7 how many bonus questions did student X get right? \n",
    "#your code should be flexible that it answer questions for any student)"
   ]
  },
  {
   "cell_type": "code",
   "execution_count": 8,
   "id": "a6f816c4",
   "metadata": {},
   "outputs": [],
   "source": [
    "#Q8 how many students get at least one bonus questions correct?"
   ]
  }
 ],
 "metadata": {
  "kernelspec": {
   "display_name": "Python 3",
   "language": "python",
   "name": "python3"
  },
  "language_info": {
   "codemirror_mode": {
    "name": "ipython",
    "version": 3
   },
   "file_extension": ".py",
   "mimetype": "text/x-python",
   "name": "python",
   "nbconvert_exporter": "python",
   "pygments_lexer": "ipython3",
   "version": "3.8.8"
  }
 },
 "nbformat": 4,
 "nbformat_minor": 5
}
