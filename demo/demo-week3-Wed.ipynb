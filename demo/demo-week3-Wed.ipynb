{
 "cells": [
  {
   "cell_type": "code",
   "execution_count": 13,
   "metadata": {},
   "outputs": [],
   "source": [
    "from math import *\n",
    "from datascience import *"
   ]
  },
  {
   "cell_type": "code",
   "execution_count": 16,
   "metadata": {},
   "outputs": [
    {
     "data": {
      "text/plain": [
       "4"
      ]
     },
     "execution_count": 16,
     "metadata": {},
     "output_type": "execute_result"
    }
   ],
   "source": [
    "max(make_array(1,2,3,4))"
   ]
  },
  {
   "cell_type": "code",
   "execution_count": 4,
   "metadata": {},
   "outputs": [
    {
     "data": {
      "text/plain": [
       "4"
      ]
     },
     "execution_count": 4,
     "metadata": {},
     "output_type": "execute_result"
    }
   ],
   "source": [
    "abs(-4)"
   ]
  },
  {
   "cell_type": "code",
   "execution_count": 18,
   "metadata": {},
   "outputs": [
    {
     "ename": "ValueError",
     "evalue": "math domain error",
     "output_type": "error",
     "traceback": [
      "\u001b[0;31m---------------------------------------------------------------------------\u001b[0m",
      "\u001b[0;31mValueError\u001b[0m                                Traceback (most recent call last)",
      "\u001b[0;32m<ipython-input-18-01f5efec3bea>\u001b[0m in \u001b[0;36m<module>\u001b[0;34m()\u001b[0m\n\u001b[0;32m----> 1\u001b[0;31m \u001b[0msqrt\u001b[0m\u001b[0;34m(\u001b[0m\u001b[0;34m-\u001b[0m\u001b[0;36m9\u001b[0m\u001b[0;34m)\u001b[0m\u001b[0;34m\u001b[0m\u001b[0m\n\u001b[0m",
      "\u001b[0;31mValueError\u001b[0m: math domain error"
     ]
    }
   ],
   "source": [
    "sqrt(-9)"
   ]
  },
  {
   "cell_type": "code",
   "execution_count": 6,
   "metadata": {},
   "outputs": [
    {
     "data": {
      "text/plain": [
       "1.4142135623730951"
      ]
     },
     "execution_count": 6,
     "metadata": {},
     "output_type": "execute_result"
    }
   ],
   "source": [
    "sqrt(2)"
   ]
  },
  {
   "cell_type": "code",
   "execution_count": 19,
   "metadata": {},
   "outputs": [
    {
     "data": {
      "text/html": [
       "<table border=\"1\" class=\"dataframe\">\n",
       "    <thead>\n",
       "        <tr>\n",
       "            \n",
       "        </tr>\n",
       "    </thead>\n",
       "    <tbody>\n",
       "</table>"
      ],
      "text/plain": []
     },
     "execution_count": 19,
     "metadata": {},
     "output_type": "execute_result"
    }
   ],
   "source": [
    "Table()"
   ]
  },
  {
   "cell_type": "code",
   "execution_count": 21,
   "metadata": {},
   "outputs": [],
   "source": [
    "tbl = Table()"
   ]
  },
  {
   "cell_type": "code",
   "execution_count": 23,
   "metadata": {},
   "outputs": [
    {
     "data": {
      "text/html": [
       "<table border=\"1\" class=\"dataframe\">\n",
       "    <thead>\n",
       "        <tr>\n",
       "            <th>company</th> <th>ceo</th> <th>party</th> <th>amount</th>\n",
       "        </tr>\n",
       "    </thead>\n",
       "    <tbody>\n",
       "        <tr>\n",
       "            <td>3M Co          </td> <td>Bob Ulrich      </td> <td>200  </td> <td>8500   </td>\n",
       "        </tr>\n",
       "    </tbody>\n",
       "        <tr>\n",
       "            <td>3M Co          </td> <td>Linda Alvarado  </td> <td>100  </td> <td>11244.6</td>\n",
       "        </tr>\n",
       "    </tbody>\n",
       "        <tr>\n",
       "            <td>3M Co          </td> <td>Robert Ulrich   </td> <td>200  </td> <td>591450 </td>\n",
       "        </tr>\n",
       "    </tbody>\n",
       "        <tr>\n",
       "            <td>AES Corporation</td> <td>Andres Gluski   </td> <td>100  </td> <td>6000   </td>\n",
       "        </tr>\n",
       "    </tbody>\n",
       "        <tr>\n",
       "            <td>AES Corporation</td> <td>Charles Rossotti</td> <td>100  </td> <td>2500   </td>\n",
       "        </tr>\n",
       "    </tbody>\n",
       "        <tr>\n",
       "            <td>AES Corporation</td> <td>Charles Rossotti</td> <td>200  </td> <td>1000   </td>\n",
       "        </tr>\n",
       "    </tbody>\n",
       "        <tr>\n",
       "            <td>AES Corporation</td> <td>John Koskinen   </td> <td>100  </td> <td>19000  </td>\n",
       "        </tr>\n",
       "    </tbody>\n",
       "        <tr>\n",
       "            <td>AES Corporation</td> <td>Kristina Johnson</td> <td>100  </td> <td>28480  </td>\n",
       "        </tr>\n",
       "    </tbody>\n",
       "        <tr>\n",
       "            <td>AES Corporation</td> <td>Philip Lader    </td> <td>100  </td> <td>2500   </td>\n",
       "        </tr>\n",
       "    </tbody>\n",
       "        <tr>\n",
       "            <td>AES Corporation</td> <td>Philip Odeen    </td> <td>100  </td> <td>750    </td>\n",
       "        </tr>\n",
       "    </tbody>\n",
       "</table>\n",
       "<p>... (4677 rows omitted)</p>"
      ],
      "text/plain": [
       "company         | ceo              | party | amount\n",
       "3M Co           | Bob Ulrich       | 200   | 8500\n",
       "3M Co           | Linda Alvarado   | 100   | 11244.6\n",
       "3M Co           | Robert Ulrich    | 200   | 591450\n",
       "AES Corporation | Andres Gluski    | 100   | 6000\n",
       "AES Corporation | Charles Rossotti | 100   | 2500\n",
       "AES Corporation | Charles Rossotti | 200   | 1000\n",
       "AES Corporation | John Koskinen    | 100   | 19000\n",
       "AES Corporation | Kristina Johnson | 100   | 28480\n",
       "AES Corporation | Philip Lader     | 100   | 2500\n",
       "AES Corporation | Philip Odeen     | 100   | 750\n",
       "... (4677 rows omitted)"
      ]
     },
     "execution_count": 23,
     "metadata": {},
     "output_type": "execute_result"
    }
   ],
   "source": [
    "tbl.read_table('../data/ceo.csv')"
   ]
  },
  {
   "cell_type": "code",
   "execution_count": 12,
   "metadata": {},
   "outputs": [
    {
     "data": {
      "text/html": [
       "<table border=\"1\" class=\"dataframe\">\n",
       "    <thead>\n",
       "        <tr>\n",
       "            <th>company</th> <th>ceo</th> <th>party</th> <th>amount</th>\n",
       "        </tr>\n",
       "    </thead>\n",
       "    <tbody>\n",
       "        <tr>\n",
       "            <td>3M Co          </td> <td>Bob Ulrich      </td> <td>200  </td> <td>8500   </td>\n",
       "        </tr>\n",
       "    </tbody>\n",
       "        <tr>\n",
       "            <td>3M Co          </td> <td>Linda Alvarado  </td> <td>100  </td> <td>11244.6</td>\n",
       "        </tr>\n",
       "    </tbody>\n",
       "        <tr>\n",
       "            <td>3M Co          </td> <td>Robert Ulrich   </td> <td>200  </td> <td>591450 </td>\n",
       "        </tr>\n",
       "    </tbody>\n",
       "        <tr>\n",
       "            <td>AES Corporation</td> <td>Andres Gluski   </td> <td>100  </td> <td>6000   </td>\n",
       "        </tr>\n",
       "    </tbody>\n",
       "        <tr>\n",
       "            <td>AES Corporation</td> <td>Charles Rossotti</td> <td>100  </td> <td>2500   </td>\n",
       "        </tr>\n",
       "    </tbody>\n",
       "        <tr>\n",
       "            <td>AES Corporation</td> <td>Charles Rossotti</td> <td>200  </td> <td>1000   </td>\n",
       "        </tr>\n",
       "    </tbody>\n",
       "        <tr>\n",
       "            <td>AES Corporation</td> <td>John Koskinen   </td> <td>100  </td> <td>19000  </td>\n",
       "        </tr>\n",
       "    </tbody>\n",
       "        <tr>\n",
       "            <td>AES Corporation</td> <td>Kristina Johnson</td> <td>100  </td> <td>28480  </td>\n",
       "        </tr>\n",
       "    </tbody>\n",
       "        <tr>\n",
       "            <td>AES Corporation</td> <td>Philip Lader    </td> <td>100  </td> <td>2500   </td>\n",
       "        </tr>\n",
       "    </tbody>\n",
       "        <tr>\n",
       "            <td>AES Corporation</td> <td>Philip Odeen    </td> <td>100  </td> <td>750    </td>\n",
       "        </tr>\n",
       "    </tbody>\n",
       "</table>\n",
       "<p>... (4677 rows omitted)</p>"
      ],
      "text/plain": [
       "company         | ceo              | party | amount\n",
       "3M Co           | Bob Ulrich       | 200   | 8500\n",
       "3M Co           | Linda Alvarado   | 100   | 11244.6\n",
       "3M Co           | Robert Ulrich    | 200   | 591450\n",
       "AES Corporation | Andres Gluski    | 100   | 6000\n",
       "AES Corporation | Charles Rossotti | 100   | 2500\n",
       "AES Corporation | Charles Rossotti | 200   | 1000\n",
       "AES Corporation | John Koskinen    | 100   | 19000\n",
       "AES Corporation | Kristina Johnson | 100   | 28480\n",
       "AES Corporation | Philip Lader     | 100   | 2500\n",
       "AES Corporation | Philip Odeen     | 100   | 750\n",
       "... (4677 rows omitted)"
      ]
     },
     "execution_count": 12,
     "metadata": {},
     "output_type": "execute_result"
    }
   ],
   "source": [
    "tbl.read_table('../data/ceo.csv')"
   ]
  },
  {
   "cell_type": "code",
   "execution_count": 26,
   "metadata": {},
   "outputs": [
    {
     "data": {
      "text/html": [
       "<table border=\"1\" class=\"dataframe\">\n",
       "    <thead>\n",
       "        <tr>\n",
       "            <th>name</th> <th>OH</th>\n",
       "        </tr>\n",
       "    </thead>\n",
       "    <tbody>\n",
       "        <tr>\n",
       "            <td>Karen  </td> <td>M   </td>\n",
       "        </tr>\n",
       "    </tbody>\n",
       "        <tr>\n",
       "            <td>Vee    </td> <td>T   </td>\n",
       "        </tr>\n",
       "    </tbody>\n",
       "        <tr>\n",
       "            <td>Michael</td> <td>W   </td>\n",
       "        </tr>\n",
       "    </tbody>\n",
       "        <tr>\n",
       "            <td>Justin </td> <td>Th  </td>\n",
       "        </tr>\n",
       "    </tbody>\n",
       "</table>"
      ],
      "text/plain": [
       "name    | OH\n",
       "Karen   | M\n",
       "Vee     | T\n",
       "Michael | W\n",
       "Justin  | Th"
      ]
     },
     "execution_count": 26,
     "metadata": {},
     "output_type": "execute_result"
    }
   ],
   "source": [
    "tbl = Table().with_columns('name', make_array('Karen','Vee','Michael','Justin'),\n",
    "                          'OH',make_array('M','T','W','Th'))\n",
    "tbl"
   ]
  },
  {
   "cell_type": "code",
   "execution_count": null,
   "metadata": {},
   "outputs": [],
   "source": []
  }
 ],
 "metadata": {
  "kernelspec": {
   "display_name": "Python 3",
   "language": "python",
   "name": "python3"
  },
  "language_info": {
   "codemirror_mode": {
    "name": "ipython",
    "version": 3
   },
   "file_extension": ".py",
   "mimetype": "text/x-python",
   "name": "python",
   "nbconvert_exporter": "python",
   "pygments_lexer": "ipython3",
   "version": "3.6.5"
  }
 },
 "nbformat": 4,
 "nbformat_minor": 2
}
