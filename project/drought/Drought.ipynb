{
 "cells": [
  {
   "cell_type": "code",
   "execution_count": null,
   "id": "967d39d5",
   "metadata": {},
   "outputs": [],
   "source": [
    "import matplotlib.pyplot as plt\n",
    "import matplotlib.dates as mdates\n",
    "plt.style.use('fivethirtyeight')\n",
    "from matplotlib.pyplot import figure\n",
    "\n",
    "import numpy as np\n",
    "import datetime\n",
    "\n",
    "import math\n",
    "\n",
    "import pandas as pd\n",
    "from scipy import stats\n",
    "plt.rcParams['figure.dpi'] = 300\n",
    "\n",
    "from datascience import *"
   ]
  },
  {
   "cell_type": "markdown",
   "id": "f2e50ad2",
   "metadata": {},
   "source": [
    "# Droughts Lab\n",
    "Learning Objective \n",
    "\n",
    "1. Reading Tables /  Plotting Graphs based on Data Tables\n",
    "2. Reflection Questions"
   ]
  },
  {
   "cell_type": "markdown",
   "id": "b69af1db",
   "metadata": {},
   "source": [
    "# Welcome To This Lab!\n",
    "\n",
    "In this lab we will be discussing **Droughts** and **Wildfires** and looking at datasets as we dive deeper into the repercussions of climate change and determining if a noteable pattern can be discerned from looking at data from throughout the world. A drought is typically looked at as a deficiency of precipitation over an extended period of time (usually a season or more), resulting in a water shortage.” Droughts occur in many places around the world, even here in the US where the southwestern portion and even western portion of the US experiences droughts as you could see in the news over the past few years. Below is the data set we will be taking a closer look at, simply run the cell below to get started with the lab!"
   ]
  },
  {
   "cell_type": "markdown",
   "id": "c3af4783",
   "metadata": {},
   "source": [
    "![Droughts](https://thumbs.dreamstime.com/b/climate-change-drought-land-water-lake-86857635.jpg)"
   ]
  },
  {
   "cell_type": "code",
   "execution_count": null,
   "id": "2dd6a3f8",
   "metadata": {},
   "outputs": [],
   "source": [
    "# Just run this cell\n",
    "\n",
    "Droughts_data = Table.read_table('./Droughts.csv')\n",
    "Droughts_data"
   ]
  },
  {
   "cell_type": "markdown",
   "id": "2fe381c6",
   "metadata": {},
   "source": [
    "Question 1.1) In the cell below plot the occurence of droughts by year to be able to see if there is a trend over time we can immidiately discern! (Hint: In the cell below, assign all the times to a variable named year_column, count it using .count(), sort the counted data using .sort(), and create a graph to visualize this data.)"
   ]
  },
  {
   "cell_type": "code",
   "execution_count": null,
   "id": "a346e51a",
   "metadata": {},
   "outputs": [],
   "source": []
  },
  {
   "cell_type": "markdown",
   "id": "afee567e",
   "metadata": {},
   "source": [
    "Question 1.2) What patterns do you notice when looking at the graph you made above by year? After doing some background research, do the patterns you have come up with match the patterns scientists accross the world made when it comes to the occurance of droughts over time? "
   ]
  },
  {
   "cell_type": "code",
   "execution_count": null,
   "id": "1e5a45d8",
   "metadata": {},
   "outputs": [],
   "source": []
  },
  {
   "cell_type": "markdown",
   "id": "34984c03",
   "metadata": {},
   "source": [
    "Question 1.3) In the cell below plot the occurence of droughts by **country** to be able to see if there is a trend in that regard we can immidiately discern!"
   ]
  },
  {
   "cell_type": "code",
   "execution_count": null,
   "id": "d4187512",
   "metadata": {},
   "outputs": [],
   "source": []
  },
  {
   "cell_type": "markdown",
   "id": "f524d57b",
   "metadata": {},
   "source": [
    "Question 1.4) What patterns do you notice when looking at the graph you made above by country? "
   ]
  },
  {
   "cell_type": "code",
   "execution_count": null,
   "id": "66756557",
   "metadata": {},
   "outputs": [],
   "source": []
  },
  {
   "cell_type": "markdown",
   "id": "6dd5cfd3",
   "metadata": {},
   "source": [
    "![Fires](https://s.hdnux.com/photos/01/21/51/67/21405124/6/1200x0.jpg)"
   ]
  },
  {
   "cell_type": "markdown",
   "id": "70fa02a4",
   "metadata": {},
   "source": [
    "Question 1.5) In the cell below plot the occurence of droughts by **Disaster Type** as there are different patterns on fires to be discussed aswell."
   ]
  },
  {
   "cell_type": "code",
   "execution_count": null,
   "id": "8acc83a0",
   "metadata": {},
   "outputs": [],
   "source": []
  },
  {
   "cell_type": "markdown",
   "id": "146faa68",
   "metadata": {},
   "source": [
    "Question 1.6) What conclusions do you arrive to when looking at this graph/data?"
   ]
  },
  {
   "cell_type": "code",
   "execution_count": null,
   "id": "c5099248",
   "metadata": {},
   "outputs": [],
   "source": []
  },
  {
   "cell_type": "markdown",
   "id": "801afb3c",
   "metadata": {},
   "source": [
    "EXIT QUESTION) In a cell below, analyze an attribute of your choosing that hasn't been discussed in the questions above and graph the data. Underneath this code cell, in a markdown cell write down any conclusions / interesting facts about the data you have chosen to look into further. Feel free to google any outside material in order to back up your concluding claims and support your answer"
   ]
  },
  {
   "cell_type": "code",
   "execution_count": null,
   "id": "04934c16",
   "metadata": {},
   "outputs": [],
   "source": []
  },
  {
   "cell_type": "markdown",
   "id": "3d39435c",
   "metadata": {},
   "source": []
  },
  {
   "cell_type": "markdown",
   "id": "29ba2468",
   "metadata": {},
   "source": [
    "# 2) Reflection Questions\n",
    "In the cell below, comment on your experience with this lab\n",
    "\n",
    "1) Is the lab interesting? if applicable, which problem is most interesting or least interesting?\n",
    "\n",
    "2) Is the lab difficult? if applicable, which problem is mostly hard for you?\n",
    "\n",
    "3) How much time did you spend on lab outside of the class?\n",
    "\n",
    "4) Any suggestions/comments on the lab and class in general?"
   ]
  },
  {
   "cell_type": "markdown",
   "id": "bd5dfd53",
   "metadata": {},
   "source": []
  }
 ],
 "metadata": {
  "kernelspec": {
   "display_name": "Python 3",
   "language": "python",
   "name": "python3"
  },
  "language_info": {
   "codemirror_mode": {
    "name": "ipython",
    "version": 3
   },
   "file_extension": ".py",
   "mimetype": "text/x-python",
   "name": "python",
   "nbconvert_exporter": "python",
   "pygments_lexer": "ipython3",
   "version": "3.8.8"
  }
 },
 "nbformat": 4,
 "nbformat_minor": 5
}
