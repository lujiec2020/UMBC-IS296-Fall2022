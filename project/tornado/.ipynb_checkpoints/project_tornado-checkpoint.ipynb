{
 "cells": [
  {
   "cell_type": "code",
   "execution_count": null,
   "id": "e7ea41ef",
   "metadata": {},
   "outputs": [],
   "source": [
    "import matplotlib.pyplot as plt\n",
    "import matplotlib.dates as mdates\n",
    "plt.style.use('fivethirtyeight')\n",
    "from matplotlib.pyplot import figure\n",
    "\n",
    "import numpy as np\n",
    "import datetime\n",
    "\n",
    "import math\n",
    "\n",
    "import pandas as pd\n",
    "from scipy import stats\n",
    "plt.rcParams['figure.dpi'] = 300"
   ]
  },
  {
   "cell_type": "markdown",
   "id": "64d49ada",
   "metadata": {},
   "source": [
    "# Tornado Lab\n",
    "Learning Objective \n",
    "\n",
    "1. Reading Tables\n",
    "2. Perform Table Operations\n",
    "3. Plotting Graphs based on Data Tables\n",
    "4. Data Interpertation"
   ]
  },
  {
   "cell_type": "markdown",
   "id": "52d13d67",
   "metadata": {},
   "source": [
    "Welcome! In this lab, we will be looking at, manipulating, and analyzing data sets related to Tornados! Before you get started, please make sure to run the cell block at the top of this notebook to import all the related libraries needed!"
   ]
  },
  {
   "cell_type": "markdown",
   "id": "ea3da722",
   "metadata": {},
   "source": [
    "# 1. Loading the Data Table"
   ]
  },
  {
   "cell_type": "markdown",
   "id": "36b79930",
   "metadata": {},
   "source": [
    "The table `1950-2020_all_tornadoes.csv` contains data on Tornadoes in the United States since 1950  (data collected by the NOAA). Each row represents one Tornado whose information has been recorded.\n",
    "\n",
    "In the next cell, assign the variable `Tornado_data` to contain the table of information from the `1950-2020_all_tornadoes.csv` file."
   ]
  },
  {
   "cell_type": "code",
   "execution_count": null,
   "id": "3944b62a",
   "metadata": {},
   "outputs": [],
   "source": [
    "Tornado_data = ...\n",
    "Tornado_data"
   ]
  },
  {
   "cell_type": "markdown",
   "id": "f2db8fc6",
   "metadata": {},
   "source": [
    "# 2. Tornado Data Table Visualizations"
   ]
  },
  {
   "cell_type": "markdown",
   "id": "1ab0bad4",
   "metadata": {},
   "source": [
    "Nicely done! Next lets create some data visualizations to find out more information on this massive tornado dataset! In the cell below, assign all the times to a variable named `time_column`, count it using `.count()`, sort the counted data using `.sort()`, and create a graph to visualize this data."
   ]
  },
  {
   "cell_type": "code",
   "execution_count": null,
   "id": "c7f61182",
   "metadata": {},
   "outputs": [],
   "source": [
    "time_column = ...\n",
    "time_count = ..."
   ]
  },
  {
   "cell_type": "markdown",
   "id": "8fb4559a",
   "metadata": {},
   "source": [
    "2.1) Explain in the markdown cell below why you chose the graph you chose for the above problem and why its the best choice for the data."
   ]
  },
  {
   "cell_type": "markdown",
   "id": "1bb3f5e1",
   "metadata": {},
   "source": []
  },
  {
   "cell_type": "markdown",
   "id": "36c819c4",
   "metadata": {},
   "source": [
    "Nice job! Now we are going to create some data visualizations on the latitude and longitudes found in the tornado dataset. Pick the appropriate data visualization and manipulation techniques to graph the data below! (Hint: Start with assigning columns to `latitude` and `longitude` and then graph the data using those two variables)"
   ]
  },
  {
   "cell_type": "code",
   "execution_count": null,
   "id": "bdfc9874",
   "metadata": {},
   "outputs": [],
   "source": [
    "latitudes = ...\n",
    "longitudes = ..."
   ]
  },
  {
   "cell_type": "markdown",
   "id": "5f6b80c2",
   "metadata": {},
   "source": [
    "2.2) Explain in the markdown cell below why you chose the graph you chose for the above problem and why its the best choice for the data."
   ]
  },
  {
   "cell_type": "markdown",
   "id": "81d85849",
   "metadata": {},
   "source": []
  },
  {
   "cell_type": "markdown",
   "id": "f5489749",
   "metadata": {},
   "source": [
    "Well done! Next, lets create some data visualizations on the frequencies of tornados by state. Pick the appropriate data visualization and manipulation techniques to graph the data below! (Hint: In the cell below, assign all the times to a variable named `state_column`, count it using `.count()`, sort the counted data using `.sort()`, and create a graph to visualize this data.)"
   ]
  },
  {
   "cell_type": "code",
   "execution_count": null,
   "id": "da4efafc",
   "metadata": {},
   "outputs": [],
   "source": [
    "state_column = ...\n",
    "state_count = ..."
   ]
  },
  {
   "cell_type": "markdown",
   "id": "08be66aa",
   "metadata": {},
   "source": [
    "2.3) Explain in the markdown cell below why you chose the graph you chose for the above problem and why its the best choice for the data."
   ]
  },
  {
   "cell_type": "markdown",
   "id": "7f5e1431",
   "metadata": {},
   "source": []
  },
  {
   "cell_type": "markdown",
   "id": "ddc208e8",
   "metadata": {},
   "source": [
    "Awesome! Next, lets create some data visualizations on the frequencies of tornados by year. Pick the appropriate data visualization and manipulation techniques to graph the data below! (Hint: In the cell below, assign all the times to a variable named year_column, count it using .count(), sort the counted data using .sort(), and create a graph to visualize this data.)"
   ]
  },
  {
   "cell_type": "code",
   "execution_count": null,
   "id": "d3b42e23",
   "metadata": {},
   "outputs": [],
   "source": [
    "year_column = ...\n",
    "year_count = ..."
   ]
  },
  {
   "cell_type": "markdown",
   "id": "b7febfe0",
   "metadata": {},
   "source": [
    "2.4) Explain in the markdown cell below why you chose the graph you chose for the above problem and why its the best choice for the data."
   ]
  },
  {
   "cell_type": "markdown",
   "id": "868dc656",
   "metadata": {},
   "source": []
  },
  {
   "cell_type": "markdown",
   "id": "8929eaf6",
   "metadata": {},
   "source": [
    "Very nicely done! Finally, in the cell below lets graph the data based on the number of occurences per **month**, this will allow us to make many observations based on seasonality. "
   ]
  },
  {
   "cell_type": "code",
   "execution_count": null,
   "id": "f6f12a96",
   "metadata": {},
   "outputs": [],
   "source": [
    "month_column = ..."
   ]
  },
  {
   "cell_type": "markdown",
   "id": "d466ff03",
   "metadata": {},
   "source": [
    "2.4) Explain in the markdown cell below why you chose the graph you chose for the above problem and why its the best choice for the data."
   ]
  },
  {
   "cell_type": "code",
   "execution_count": null,
   "id": "bad707af",
   "metadata": {},
   "outputs": [],
   "source": []
  },
  {
   "cell_type": "markdown",
   "id": "517a0bec",
   "metadata": {},
   "source": [
    "# BONUS Background Information Section: Tornado Valley\n",
    "Nicely done with the analysis! As a bit of background information to explain the results you have found based on these graphs, Tornado Valley is the part of the USA that covers 15% of US ground but results in over 30% of the tornados that touch down in the world! This valley should include states such as Texas, Oklahoma, Kansas, Nebraska, South Dakota, Indiana, Missouri, Iowa, Illinois, and Ohio! When looking at the latitudes, longitudes, and frequency of tornados by state, you should notice a clear trend in which areas of the US have the most tornados occur. A picture has been provided for your better visualization below. \n",
    "<img src=\"https://cms.accuweather.com/wp-content/uploads/2018/05/tornado-alley-1.jpg?w=632\">"
   ]
  },
  {
   "cell_type": "markdown",
   "id": "46d6703f",
   "metadata": {},
   "source": [
    "# 3. Data Table Visualization Analysis/Conclusions"
   ]
  },
  {
   "cell_type": "markdown",
   "id": "05f78568",
   "metadata": {},
   "source": [
    "Below is a graph created using the Pandas library to show drequecy of all the tornados in the database by the time of day they occured. Simply run the cell below without changing anything."
   ]
  },
  {
   "cell_type": "code",
   "execution_count": null,
   "id": "c172e038",
   "metadata": {},
   "outputs": [],
   "source": [
    "df_tornado = pd.read_csv(\"1950-2020_all_tornadoes.csv\")\n",
    "\n",
    "timeList = []\n",
    "\n",
    "for time in df_tornado['time']:\n",
    "    time_tuple = datetime.datetime.strptime(time, '%H:%M:%S')\n",
    "    time_int = time_tuple.hour \n",
    "    timeList.append(time_int)\n",
    "\n",
    "df_tornado[\"Recorded Time of Recorded Tornados from 1950-2020 (hours)\"] = timeList\n",
    "\n",
    "grouped = df_tornado.groupby([\"Recorded Time of Recorded Tornados from 1950-2020 (hours)\"])\n",
    "grouped_final = grouped.size()\n",
    "grouped_final.reset_index()\n",
    "\n",
    "grouped_final.plot.line(x=\"Recorded Time of Recorded Tornados from 1950-2020 (hours)\",y=\"0\")"
   ]
  },
  {
   "cell_type": "markdown",
   "id": "88411c66",
   "metadata": {},
   "source": [
    "**According to expert meteoroligists, the vast majority of tornadoes occur in the late afternoon or evening, when the atmosphere is most unstable after a full day of solar heating. The peak time of occurrence is between 6-7 pm and about half of all twisters occur in the 4-9 pm time frame. That being said, twisters can occur anytime of the day or night. Tornadoes are least likely from 6 -7 am with only 6 percent occurring between 7 am and noon. However, morning tornadoes do occur.**"
   ]
  },
  {
   "cell_type": "markdown",
   "id": "719a2adf",
   "metadata": {},
   "source": [
    "3.1) After running the cell above and analyzing the printed graph, Write some conclusions in the markdown cell below that could be made for the above graph, if you need a hint you can look at the paragraph above which is an eyewitness report from a professional meteorologist. Does the dataset we graph support those same conclusions the meteorologist made? Remember to SHOW and not to TELL with your answer."
   ]
  },
  {
   "cell_type": "markdown",
   "id": "1624bd9d",
   "metadata": {},
   "source": []
  },
  {
   "cell_type": "markdown",
   "id": "35c223dc",
   "metadata": {},
   "source": [
    "# Reflection Questions\n",
    "In the cell below, comment on your experience with this lab\n",
    "\n",
    "1) Is the lab interesting? if applicable, which problem is most interesting or least interesting?\n",
    "\n",
    "2) Is the lab difficult? if applicable, which problem is mostly hard for you?\n",
    "\n",
    "3) How much time did you spend on lab outside of the class?\n",
    "\n",
    "4) Any suggestions/comments on the lab and class in general?"
   ]
  },
  {
   "cell_type": "code",
   "execution_count": null,
   "id": "7d392c5f",
   "metadata": {},
   "outputs": [],
   "source": []
  }
 ],
 "metadata": {
  "kernelspec": {
   "display_name": "Python 3",
   "language": "python",
   "name": "python3"
  },
  "language_info": {
   "codemirror_mode": {
    "name": "ipython",
    "version": 3
   },
   "file_extension": ".py",
   "mimetype": "text/x-python",
   "name": "python",
   "nbconvert_exporter": "python",
   "pygments_lexer": "ipython3",
   "version": "3.8.8"
  }
 },
 "nbformat": 4,
 "nbformat_minor": 5
}
